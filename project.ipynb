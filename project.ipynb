{
 "cells": [
  {
   "cell_type": "markdown",
   "id": "99e024f4-79b3-4367-b367-132eb66cf8e5",
   "metadata": {},
   "source": [
    "## *operation on list*"
   ]
  },
  {
   "cell_type": "markdown",
   "id": "5a177a5d-537b-40d6-b5df-791818197ff3",
   "metadata": {},
   "source": [
    "### *create a list*"
   ]
  },
  {
   "cell_type": "code",
   "execution_count": 2,
   "id": "a631bc79-f10f-49a9-92c3-42d0770027b9",
   "metadata": {},
   "outputs": [
    {
     "name": "stdout",
     "output_type": "stream",
     "text": [
      "The list element is: [1, 2, 3, 4]\n",
      "The list element of different values: ['afrah', 18, 'nila', 22]\n"
     ]
    }
   ],
   "source": [
    "list1=[1,2,3,4]\n",
    "list2=[\"afrah\",18,\"nila\",22]\n",
    "print(\"The list element is:\",list1)\n",
    "print(\"The list element of different values:\",list2)"
   ]
  },
  {
   "cell_type": "markdown",
   "id": "3f8e0a85-de75-4d35-8848-08b0f456aadd",
   "metadata": {},
   "source": [
    "### *Insert a element*"
   ]
  },
  {
   "cell_type": "code",
   "execution_count": 3,
   "id": "34713d14-0881-46f7-be7b-e14f5aadfb0e",
   "metadata": {},
   "outputs": [
    {
     "name": "stdout",
     "output_type": "stream",
     "text": [
      "After Insert of the element: [1, 2, 7, 3, 4]\n",
      "After Insert of the element: ['afrah', 18, 'haya', 'nila', 22]\n"
     ]
    }
   ],
   "source": [
    "list1=[1,2,3,4]\n",
    "list2=[\"afrah\",18,\"nila\",22]\n",
    "list1.insert(2,7)\n",
    "list2.insert(2,\"haya\")\n",
    "print(\"After Insert of the element:\",list1)\n",
    "print(\"After Insert of the element:\",list2)"
   ]
  },
  {
   "cell_type": "markdown",
   "id": "3b121206-83f5-4826-82dc-84d7f098075c",
   "metadata": {},
   "source": [
    "### *Append element*"
   ]
  },
  {
   "cell_type": "code",
   "execution_count": 4,
   "id": "1cb04d32-c076-4678-a29a-d515496e4eaa",
   "metadata": {},
   "outputs": [
    {
     "name": "stdout",
     "output_type": "stream",
     "text": [
      "After append: [1, 2, 3, 4, 20]\n",
      "After append: ['afrah', 18, 'nila', 22, 'haya']\n"
     ]
    }
   ],
   "source": [
    "list1=[1,2,3,4]\n",
    "list2=[\"afrah\",18,\"nila\",22]\n",
    "list1.append(20)\n",
    "list2.append(\"haya\")\n",
    "print(\"After append:\",list1)\n",
    "print(\"After append:\",list2)"
   ]
  },
  {
   "cell_type": "markdown",
   "id": "c85b8225-a30f-4cda-8625-be368f1590ae",
   "metadata": {},
   "source": [
    "### *Update element*"
   ]
  },
  {
   "cell_type": "code",
   "execution_count": 5,
   "id": "f50f2de1-cfb9-4e86-82a9-73b0c879868d",
   "metadata": {},
   "outputs": [
    {
     "name": "stdout",
     "output_type": "stream",
     "text": [
      "After Update: [1, 10, 3, 4]\n",
      "After Update: ['afrah', 18, 'haya', 22]\n"
     ]
    }
   ],
   "source": [
    "list1=[1,2,3,4]\n",
    "list2=[\"afrah\",18,\"nila\",22]\n",
    "list1[1]=10\n",
    "list2[2]=\"haya\"\n",
    "print(\"After Update:\",list1)\n",
    "print(\"After Update:\",list2)"
   ]
  },
  {
   "cell_type": "markdown",
   "id": "e7f047c1-e1e5-4983-aaab-f999d363e908",
   "metadata": {},
   "source": [
    "### *Delete element by index & value*"
   ]
  },
  {
   "cell_type": "code",
   "execution_count": 6,
   "id": "fd456caa-ad06-4474-a278-52efdad32f9a",
   "metadata": {},
   "outputs": [
    {
     "name": "stdout",
     "output_type": "stream",
     "text": [
      "After deletion (By index): [2, 3, 4]\n",
      "After deletion (By value): [1, 2, 3]\n"
     ]
    }
   ],
   "source": [
    "list1=[1,2,3,4]\n",
    "del list1[0]\n",
    "print(\"After deletion (By index):\",list1)\n",
    "list2=[1,2,3,4]\n",
    "list2.remove(4)\n",
    "print(\"After deletion (By value):\",list2)\n"
   ]
  },
  {
   "cell_type": "markdown",
   "id": "84041681-8061-4c6c-90fa-8fce2be34511",
   "metadata": {},
   "source": [
    "### *concatenate with another list*"
   ]
  },
  {
   "cell_type": "code",
   "execution_count": 7,
   "id": "4fa4f2d3-2e61-4b72-833c-546ace498db9",
   "metadata": {},
   "outputs": [
    {
     "name": "stdout",
     "output_type": "stream",
     "text": [
      "concatenated list: [1, 2, 3, 4, 'afrah', 18, 'nila', 22]\n"
     ]
    }
   ],
   "source": [
    "list1=[1,2,3,4]\n",
    "list2=[\"afrah\",18,\"nila\",22]\n",
    "concatenate=list1+list2\n",
    "print(\"concatenated list:\",concatenate)"
   ]
  },
  {
   "cell_type": "markdown",
   "id": "d0463bd9-1770-41c3-ad4f-82467e849712",
   "metadata": {},
   "source": [
    "### *Length of the list*"
   ]
  },
  {
   "cell_type": "code",
   "execution_count": 8,
   "id": "575d41b2-9872-434e-931e-fbf8af68ee7e",
   "metadata": {},
   "outputs": [
    {
     "name": "stdout",
     "output_type": "stream",
     "text": [
      "The length of the list is: 4\n"
     ]
    }
   ],
   "source": [
    "list1=[1,2,3,4]\n",
    "print(\"The length of the list is:\",len(list1))"
   ]
  },
  {
   "cell_type": "markdown",
   "id": "81c6d2dc-fa2c-4c68-8b1d-6b443b27cbf2",
   "metadata": {},
   "source": [
    "### *Copy the list*"
   ]
  },
  {
   "cell_type": "code",
   "execution_count": 9,
   "id": "af435320-c537-40a0-8476-d00f82f6ce0d",
   "metadata": {},
   "outputs": [
    {
     "name": "stdout",
     "output_type": "stream",
     "text": [
      "copied list: [1, 2, 3, 4]\n"
     ]
    }
   ],
   "source": [
    "list1=[1,2,3,4]\n",
    "copy_list=list1.copy()\n",
    "print(\"copied list:\",copy_list)"
   ]
  },
  {
   "cell_type": "markdown",
   "id": "83af8aa1-c012-4294-b465-ec5f0e2e9c03",
   "metadata": {},
   "source": [
    "## *Operation on tuple*"
   ]
  },
  {
   "cell_type": "markdown",
   "id": "fdb1bd5a-db82-4d0e-9967-1098e8bc5385",
   "metadata": {},
   "source": [
    "### *Create a tuple*"
   ]
  },
  {
   "cell_type": "code",
   "execution_count": 10,
   "id": "b7b30bbd-020c-4bb4-98a3-6189ff2472c2",
   "metadata": {},
   "outputs": [
    {
     "name": "stdout",
     "output_type": "stream",
     "text": [
      "(1, 2, 3, 4, 5)\n"
     ]
    }
   ],
   "source": [
    "tuple=(1,2,3,4,5)\n",
    "print(tuple)"
   ]
  },
  {
   "cell_type": "markdown",
   "id": "6fb8b0bc-d511-4b9b-ac32-9cd320fec340",
   "metadata": {},
   "source": [
    "### *Print a element by indexing*"
   ]
  },
  {
   "cell_type": "code",
   "execution_count": 11,
   "id": "5e65aeb1-04f1-458d-b812-4c5ae13a3df1",
   "metadata": {},
   "outputs": [
    {
     "name": "stdout",
     "output_type": "stream",
     "text": [
      "The element of the tuple is: (1, 2, 3, 4, 5)\n"
     ]
    }
   ],
   "source": [
    "tuple=(1,2,3,4,5)\n",
    "print(\"The element of the tuple is:\",tuple)"
   ]
  },
  {
   "cell_type": "markdown",
   "id": "a60f5cc1-c759-4f35-a3b2-f8c3da02b2b2",
   "metadata": {},
   "source": [
    "### *slicing a element*"
   ]
  },
  {
   "cell_type": "code",
   "execution_count": 12,
   "id": "1b963111-abd9-4a16-ad93-f51ed32bf662",
   "metadata": {},
   "outputs": [
    {
     "name": "stdout",
     "output_type": "stream",
     "text": [
      "After slicing a element: (2, 3, 4)\n"
     ]
    }
   ],
   "source": [
    "tuple=(1,2,3,4,5)\n",
    "print(\"After slicing a element:\",tuple[1:4])"
   ]
  },
  {
   "cell_type": "markdown",
   "id": "ce8832c4-340a-4ca8-a3c7-350c1c3cc603",
   "metadata": {},
   "source": [
    "### *Concatenate a tuple with another tuple*"
   ]
  },
  {
   "cell_type": "code",
   "execution_count": 13,
   "id": "eb1eb907-c28b-4df5-93a8-f1c2bff2d18f",
   "metadata": {},
   "outputs": [
    {
     "name": "stdout",
     "output_type": "stream",
     "text": [
      "Concatenate of tuple: (1, 2, 3, 4, 5, 6)\n"
     ]
    }
   ],
   "source": [
    "tuple1=(1,2,3)\n",
    "tuple2=(4,5,6)\n",
    "con=tuple1+tuple2\n",
    "print(\"Concatenate of tuple:\",con)"
   ]
  },
  {
   "cell_type": "markdown",
   "id": "08b18b3a-97e3-4be9-8fcc-1427ebda0815",
   "metadata": {},
   "source": [
    "### *Repetation*"
   ]
  },
  {
   "cell_type": "code",
   "execution_count": 14,
   "id": "002aafab-c33a-497e-8aee-7bd5c212528c",
   "metadata": {},
   "outputs": [
    {
     "name": "stdout",
     "output_type": "stream",
     "text": [
      "Repetation of the tuple: (1, 2, 1, 2, 1, 2)\n"
     ]
    }
   ],
   "source": [
    "t=(1,2)\n",
    "print(\"Repetation of the tuple:\",t*3) "
   ]
  },
  {
   "cell_type": "markdown",
   "id": "db212fd3-3820-422f-bd44-0858eaa837a6",
   "metadata": {},
   "source": [
    "### *Membership*"
   ]
  },
  {
   "cell_type": "code",
   "execution_count": 15,
   "id": "6a83f6eb-2f8c-4733-8575-c1f9eec712d4",
   "metadata": {},
   "outputs": [
    {
     "name": "stdout",
     "output_type": "stream",
     "text": [
      "True\n"
     ]
    }
   ],
   "source": [
    "t=(1,2,3)\n",
    "print(2 in t)"
   ]
  },
  {
   "cell_type": "markdown",
   "id": "ccfb43ce-39dd-441d-8e67-2c33fc2042bc",
   "metadata": {},
   "source": [
    "### *Length*"
   ]
  },
  {
   "cell_type": "code",
   "execution_count": 16,
   "id": "526b291c-6b83-423b-952f-83d7e743e3e3",
   "metadata": {},
   "outputs": [
    {
     "name": "stdout",
     "output_type": "stream",
     "text": [
      "The length of the tuple is: 4\n"
     ]
    }
   ],
   "source": [
    "t=(1,2,3,4)\n",
    "print(\"The length of the tuple is:\",len(t))"
   ]
  },
  {
   "cell_type": "markdown",
   "id": "0635b023-033f-42a5-a70b-8d50c7e65791",
   "metadata": {},
   "source": [
    "### *Min & Max*"
   ]
  },
  {
   "cell_type": "code",
   "execution_count": 17,
   "id": "fea500a4-dc5b-4c22-9ecd-6c8dec6d4b4b",
   "metadata": {},
   "outputs": [
    {
     "name": "stdout",
     "output_type": "stream",
     "text": [
      "The maximum number of the tuple is : 80\n",
      "The lowest number of the tuple is : 10\n"
     ]
    }
   ],
   "source": [
    "tuple=(10,50,70,80,30)\n",
    "print(\"The maximum number of the tuple is :\",max(tuple))\n",
    "print(\"The lowest number of the tuple is :\",min(tuple))"
   ]
  },
  {
   "cell_type": "markdown",
   "id": "62ab965c-90c5-4462-973d-7af019e58468",
   "metadata": {},
   "source": [
    "### *Count*"
   ]
  },
  {
   "cell_type": "code",
   "execution_count": 18,
   "id": "e2733104-1522-4229-8a3e-c918cb428296",
   "metadata": {},
   "outputs": [
    {
     "name": "stdout",
     "output_type": "stream",
     "text": [
      "The number of element present in tuple is: 3\n"
     ]
    }
   ],
   "source": [
    "t=(1,2,4,6,2,7,8,2,1,7)\n",
    "num=t.count(2)\n",
    "print(\"The number of element present in tuple is:\",num)"
   ]
  },
  {
   "cell_type": "markdown",
   "id": "40cb8b10-da66-4b6c-9af9-af5b1a3a10b3",
   "metadata": {},
   "source": [
    "## *Operaton on set*"
   ]
  },
  {
   "cell_type": "markdown",
   "id": "b491db9c-efb2-41af-8312-2bbc8f8bc916",
   "metadata": {},
   "source": [
    "### *Create a set*"
   ]
  },
  {
   "cell_type": "code",
   "execution_count": 19,
   "id": "ae6d22fa-5565-4fb0-9197-3dcd14a9e85d",
   "metadata": {},
   "outputs": [
    {
     "name": "stdout",
     "output_type": "stream",
     "text": [
      "Set element: {6, 7, 8, 9, 10}\n"
     ]
    }
   ],
   "source": [
    "set={6,7,8,9,10}\n",
    "print(\"Set element:\",set)"
   ]
  },
  {
   "cell_type": "markdown",
   "id": "3653ab67-6215-4ec2-8e71-0da566c611fc",
   "metadata": {},
   "source": [
    "### *Adding an element*"
   ]
  },
  {
   "cell_type": "code",
   "execution_count": 20,
   "id": "c3457775-3a6a-4cb0-84d1-45b09cbf1611",
   "metadata": {},
   "outputs": [
    {
     "name": "stdout",
     "output_type": "stream",
     "text": [
      "After adding an element: {6, 7, 8, 9, 10, 11}\n"
     ]
    }
   ],
   "source": [
    "set={6,7,8,9,10}\n",
    "set.add(11)\n",
    "print(\"After adding an element:\",set)"
   ]
  },
  {
   "cell_type": "markdown",
   "id": "c43ed205-448c-438e-92c9-adfd6a9cdaf2",
   "metadata": {},
   "source": [
    "### *Removing an element*"
   ]
  },
  {
   "cell_type": "code",
   "execution_count": 21,
   "id": "9f48aada-1f06-466a-bfd0-81a6c2663e66",
   "metadata": {},
   "outputs": [
    {
     "name": "stdout",
     "output_type": "stream",
     "text": [
      "After Remove: {50, 40, 10, 30}\n"
     ]
    }
   ],
   "source": [
    "set={10,20,30,40,50}\n",
    "set.remove(20)\n",
    "print(\"After Remove:\",set)"
   ]
  },
  {
   "cell_type": "markdown",
   "id": "d2c04172-7ae6-412f-b6bb-46db16da25ec",
   "metadata": {},
   "source": [
    "### *Union(A∪B)*"
   ]
  },
  {
   "cell_type": "code",
   "execution_count": 22,
   "id": "9b27e8a4-069b-4ffe-97be-da0445c5088b",
   "metadata": {},
   "outputs": [
    {
     "name": "stdout",
     "output_type": "stream",
     "text": [
      "Union: {1, 2, 3, 4, 5, 6, 7, 8}\n"
     ]
    }
   ],
   "source": [
    "set1={1,2,3,4}\n",
    "set2={5,6,7,8}\n",
    "print(\"Union:\",set1|set2)"
   ]
  },
  {
   "cell_type": "markdown",
   "id": "83f6af4b-f038-4d37-b06c-a5f15f7fa404",
   "metadata": {},
   "source": [
    "### *Intersection(A∩B)*"
   ]
  },
  {
   "cell_type": "code",
   "execution_count": 23,
   "id": "eae6ab63-d593-43f6-85ce-5269f0c442d9",
   "metadata": {},
   "outputs": [
    {
     "name": "stdout",
     "output_type": "stream",
     "text": [
      "Difference: {1, 2}\n"
     ]
    }
   ],
   "source": [
    "set1={1,2,3,4}\n",
    "set2={3,4,5,6}\n",
    "print(\"Difference:\",set1-set2)"
   ]
  },
  {
   "cell_type": "markdown",
   "id": "9999ff36-c93b-4cce-950b-b4ad59f7a033",
   "metadata": {},
   "source": [
    "### *Symmetric Difference(A△B)* "
   ]
  },
  {
   "cell_type": "code",
   "execution_count": 24,
   "id": "4050765e-ec50-4170-9460-0f9d0f5c4ced",
   "metadata": {},
   "outputs": [
    {
     "name": "stdout",
     "output_type": "stream",
     "text": [
      "Symmetric Difference: {1, 2}\n"
     ]
    }
   ],
   "source": [
    "set1={1,2,3,4}\n",
    "set2={3,4,5,6}\n",
    "print(\"Symmetric Difference:\",set1-set2)"
   ]
  },
  {
   "cell_type": "markdown",
   "id": "5b4f7ecd-4a63-445a-a63d-aaeab4d9696a",
   "metadata": {},
   "source": [
    "### *Set Relations*"
   ]
  },
  {
   "cell_type": "code",
   "execution_count": 25,
   "id": "821bc182-41be-430b-a332-093875859de6",
   "metadata": {},
   "outputs": [
    {
     "name": "stdout",
     "output_type": "stream",
     "text": [
      "Set1 is subset of set2: True\n",
      "set2 is subset of set1: False\n",
      "set2 is superset of set1: True\n",
      "set1 is disjoint with{6,7}: True\n"
     ]
    }
   ],
   "source": [
    "set1={1,2,3}\n",
    "set2={1,2,3,4,5}\n",
    "print(\"Set1 is subset of set2:\",set1.issubset(set2))\n",
    "print(\"set2 is subset of set1:\",set2.issubset(set1))\n",
    "print(\"set2 is superset of set1:\",set2.issuperset(set1))\n",
    "print(\"set1 is disjoint with{6,7}:\",set1.isdisjoint({6,7}))"
   ]
  },
  {
   "cell_type": "markdown",
   "id": "a0afaa34-9d54-4851-8164-5df0507102c6",
   "metadata": {},
   "source": [
    "### *Length*"
   ]
  },
  {
   "cell_type": "markdown",
   "id": "c14367ce-4bc6-4740-8b17-04119f91b9a3",
   "metadata": {},
   "source": [
    "set={1,10,30,50,100}\n",
    "print(\"Length:\",len(set))"
   ]
  },
  {
   "cell_type": "markdown",
   "id": "fb26ee4b-beb7-42f2-ad69-773d08607fbf",
   "metadata": {},
   "source": [
    "## *Operations on Dictionary*"
   ]
  },
  {
   "cell_type": "markdown",
   "id": "629e6d4c-d4bf-4ea4-904f-3b178e710f3d",
   "metadata": {},
   "source": [
    "### *Create a Dictionary*"
   ]
  },
  {
   "cell_type": "markdown",
   "id": "7fdc45e4-965a-4ab8-922d-098ce858c9a5",
   "metadata": {},
   "source": [
    "dict={\"Name\":\"Afrah\",\"Age\":18,\"City\":\"Trichy\"}\n",
    "print(\"Dictionary:\",dict)"
   ]
  },
  {
   "cell_type": "markdown",
   "id": "569ce3b3-5332-4777-8200-bfd5b78a5c7c",
   "metadata": {},
   "source": [
    "### *Accessing element*"
   ]
  },
  {
   "cell_type": "code",
   "execution_count": 26,
   "id": "ea3d95db-e326-4224-b762-4949d28768f1",
   "metadata": {},
   "outputs": [
    {
     "name": "stdout",
     "output_type": "stream",
     "text": [
      "Dictionay; Afrah\n"
     ]
    }
   ],
   "source": [
    "dict={\"Name\":\"Afrah\",\"Age\":18,\"City\":\"Trichy\"}\n",
    "print(\"Dictionay;\",dict[\"Name\"])"
   ]
  },
  {
   "cell_type": "markdown",
   "id": "f6f7079b-c4a5-4033-9d60-614d4ac7224d",
   "metadata": {},
   "source": [
    "### *Updating*"
   ]
  },
  {
   "cell_type": "code",
   "execution_count": 27,
   "id": "0f8b5758-df41-4eec-9f01-147e92dae564",
   "metadata": {},
   "outputs": [
    {
     "name": "stdout",
     "output_type": "stream",
     "text": [
      "After updating age: {'Name': 'Afrah', 'Age': 25, 'City': 'Trichy'}\n"
     ]
    }
   ],
   "source": [
    "dict={\"Name\":\"Afrah\",\"Age\":18,\"City\":\"Trichy\"}\n",
    "dict[\"Age\"]=25\n",
    "print(\"After updating age:\",dict)"
   ]
  },
  {
   "cell_type": "markdown",
   "id": "ec3694dc-9d34-4eea-a18a-662964295dad",
   "metadata": {},
   "source": [
    "### *Adding element*"
   ]
  },
  {
   "cell_type": "code",
   "execution_count": 28,
   "id": "1b532917-937f-41f3-bb96-4eab249c15e9",
   "metadata": {},
   "outputs": [
    {
     "name": "stdout",
     "output_type": "stream",
     "text": [
      "After adding: {'Name': 'Afrah', 'Age': 18, 'City': 'Trichy', 'College': 'PMIST'}\n"
     ]
    }
   ],
   "source": [
    "dict={\"Name\":\"Afrah\",\"Age\":18,\"City\":\"Trichy\"}\n",
    "dict[\"College\"]=\"PMIST\"\n",
    "print(\"After adding:\",dict)"
   ]
  },
  {
   "cell_type": "markdown",
   "id": "6b64f5c9-af8f-411d-8d88-e37e4bc0bc27",
   "metadata": {},
   "source": [
    "### *Removing elements*"
   ]
  },
  {
   "cell_type": "code",
   "execution_count": 29,
   "id": "5d7fbe71-3204-4bcd-9acf-5a1bcd822f90",
   "metadata": {},
   "outputs": [
    {
     "name": "stdout",
     "output_type": "stream",
     "text": [
      "After pop: {'Name': 'Afrah', 'Age': 18}\n"
     ]
    }
   ],
   "source": [
    "dict={\"Name\":\"Afrah\",\"Age\":18,\"City\":\"Trichy\"}\n",
    "dict.pop(\"City\")\n",
    "print(\"After pop:\",dict)"
   ]
  },
  {
   "cell_type": "markdown",
   "id": "0dcd8978-88b6-4824-9988-8edb0018b499",
   "metadata": {},
   "source": [
    "### *Loop through dictionary*"
   ]
  },
  {
   "cell_type": "code",
   "execution_count": 30,
   "id": "b4290fc2-fd6a-48e3-8464-b92a782d8697",
   "metadata": {},
   "outputs": [
    {
     "name": "stdout",
     "output_type": "stream",
     "text": [
      "keys:\n",
      "Age\n",
      "City\n"
     ]
    }
   ],
   "source": [
    "dict={\"Age\":18,\"City\":\"Trichy\"}\n",
    "print(\"keys:\")\n",
    "for i in dict.keys():\n",
    "    print(i)\n"
   ]
  },
  {
   "cell_type": "code",
   "execution_count": null,
   "id": "c8bccefa-ce38-429e-8543-804f49b12f70",
   "metadata": {},
   "outputs": [],
   "source": []
  },
  {
   "cell_type": "code",
   "execution_count": null,
   "id": "81eaf210-fd45-4d03-9a27-d95d0f6ea4d8",
   "metadata": {},
   "outputs": [],
   "source": []
  },
  {
   "cell_type": "code",
   "execution_count": null,
   "id": "1105c085-cdba-4809-ad41-3eb83874b5fa",
   "metadata": {},
   "outputs": [],
   "source": []
  },
  {
   "cell_type": "code",
   "execution_count": null,
   "id": "7153d126-6977-4678-b000-e3da46485590",
   "metadata": {},
   "outputs": [],
   "source": []
  },
  {
   "cell_type": "code",
   "execution_count": null,
   "id": "2846f616-8912-4235-8eb4-7a94e1c03062",
   "metadata": {},
   "outputs": [],
   "source": []
  },
  {
   "cell_type": "code",
   "execution_count": null,
   "id": "1dd54e96-83f8-4eea-b509-088a3262eaa8",
   "metadata": {},
   "outputs": [],
   "source": []
  },
  {
   "cell_type": "code",
   "execution_count": null,
   "id": "ec959879-ae2f-4700-a4fe-1c67d3230440",
   "metadata": {},
   "outputs": [],
   "source": []
  },
  {
   "cell_type": "code",
   "execution_count": null,
   "id": "dee9a732-73e0-4a49-a21a-775f40cd7ec8",
   "metadata": {},
   "outputs": [],
   "source": []
  }
 ],
 "metadata": {
  "kernelspec": {
   "display_name": "Python 3 (ipykernel)",
   "language": "python",
   "name": "python3"
  },
  "language_info": {
   "codemirror_mode": {
    "name": "ipython",
    "version": 3
   },
   "file_extension": ".py",
   "mimetype": "text/x-python",
   "name": "python",
   "nbconvert_exporter": "python",
   "pygments_lexer": "ipython3",
   "version": "3.13.5"
  }
 },
 "nbformat": 4,
 "nbformat_minor": 5
}
